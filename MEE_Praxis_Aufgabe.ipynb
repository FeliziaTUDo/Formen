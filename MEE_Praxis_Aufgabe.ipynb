{
  "nbformat": 4,
  "nbformat_minor": 0,
  "metadata": {
    "colab": {
      "name": "MEE_Praxis_Zusatzaufgabe",
      "provenance": [],
      "collapsed_sections": [
        "rWKBQSAik-0s",
        "kOpwtQ2zlxYl",
        "jcBF3MZ3lxYn",
        "HvJ3PKdmlxYo",
        "Mmc1D6PRlxYp",
        "GE3B_yTglxYp"
      ],
      "authorship_tag": "ABX9TyPa0TFlzF7Y1fGTclsQNPHF",
      "include_colab_link": true
    },
    "kernelspec": {
      "name": "python3",
      "display_name": "Python 3"
    },
    "language_info": {
      "name": "python"
    }
  },
  "cells": [
    {
      "cell_type": "markdown",
      "metadata": {
        "id": "view-in-github",
        "colab_type": "text"
      },
      "source": [
        "<a href=\"https://colab.research.google.com/github/FeliziaTUDo/Formen/blob/main/MEE_Praxis_Zusatzaufgabe.ipynb\" target=\"_parent\"><img src=\"https://colab.research.google.com/assets/colab-badge.svg\" alt=\"Open In Colab\"/></a>"
      ]
    },
    {
      "cell_type": "markdown",
      "metadata": {
        "id": "hWyK3IrVlF_d"
      },
      "source": [
        "# Beschreibung"
      ]
    },
    {
      "cell_type": "markdown",
      "metadata": {
        "id": "_yVXDibegQW-"
      },
      "source": [
        "In dieser Aufabe wollen wir ein neuronales Netz auf die Mnist-Daten trainieren. \n",
        "MNIST ist ein Datenset, der handgeschriebene Ziffern von 0 bis 10 enthält. \n",
        "Dieses Datenset kann über eine Funktion von Keras geladen werden. \n",
        "Diese Aufgabe führt dich schrittweise durch die Erstellung eines Datensets.\n",
        "\n",
        "Unter \"Aufgabe\" sind die Anleitungen und Zellen entsprechend vorbereitet. Weiter unten unter \"Lösung\" findest du einen möglichen Lösungsweg. "
      ]
    },
    {
      "cell_type": "markdown",
      "metadata": {
        "id": "4cf33Tg1lYiM"
      },
      "source": [
        "# Aufgabe"
      ]
    },
    {
      "cell_type": "markdown",
      "metadata": {
        "id": "55BbbvxkhAad"
      },
      "source": [
        "## 1. Teil \n",
        "Importiere die Libraries, die du benötigst.\n",
        "\n",
        "Tipp: Du benötigst von keras.models das sequentielle Modell, von keras.layers eine \"normale\" Schicht mit Neuronen und eine Schicht, um das Bild in einen Vektor umzuwandeln. \n",
        "Zusätzlich benötigst du den Befehl, um das MNIST-Datenset zu importieren. \n",
        "Zur Berechnung benötigst du numpy. Vergiss hierbei nicht den Zusatz \"as np\". \n",
        "\n",
        "Übrigens: Wenn du ein Modul noch nicht importiert hast, erhälst du die Fehermeldung \"module not found\". Dann ergänz es hier bei den Importen und führ die Zelle erneut aus. "
      ]
    },
    {
      "cell_type": "code",
      "metadata": {
        "id": "Z1_KOB6O2D4T"
      },
      "source": [
        "\n",
        "\n",
        "from keras.datasets import mnist"
      ],
      "execution_count": 11,
      "outputs": []
    },
    {
      "cell_type": "markdown",
      "metadata": {
        "id": "gCNZJNprlgmF"
      },
      "source": [
        "## 2. Teil"
      ]
    },
    {
      "cell_type": "markdown",
      "metadata": {
        "id": "dEkUbt-yhtzN"
      },
      "source": [
        "Hier wird das Datenset geladen. Die Rückdabeparameter der Funktion mnist.load_data sind zwei Tupel aus je zwei Numpy-Arrays. (Dafür benötigst du das Modul numpy)"
      ]
    },
    {
      "cell_type": "code",
      "metadata": {
        "colab": {
          "base_uri": "https://localhost:8080/"
        },
        "id": "Ubxfinca1uju",
        "outputId": "82090c3d-7131-4aa5-9589-9feb45c8c985"
      },
      "source": [
        " (x_train, y_train), (x_test, y_test)  = mnist.load_data()"
      ],
      "execution_count": 3,
      "outputs": [
        {
          "output_type": "stream",
          "text": [
            "Downloading data from https://storage.googleapis.com/tensorflow/tf-keras-datasets/mnist.npz\n",
            "11493376/11490434 [==============================] - 0s 0us/step\n"
          ],
          "name": "stdout"
        }
      ]
    },
    {
      "cell_type": "markdown",
      "metadata": {
        "id": "CeJx9x2rli09"
      },
      "source": [
        "## 3. Teil"
      ]
    },
    {
      "cell_type": "markdown",
      "metadata": {
        "id": "vncMEfXAiOzm"
      },
      "source": [
        "Hier baust du das neuronale Netz auf. \n",
        "\n",
        "Schritt 1: Initialisiere das Modell als sequentielles Modell\n",
        "\n",
        "Schritt 2: Erstelle eine Input-Schicht. Die Bilder des MNIST-Datensets haben eine Seitenlänge von 28 Pixeln und sind schwarz - weiß \n",
        "\n",
        "Schritt 3: Erstelle eine Dense-Hidden-Layer mit 250 Neuronen. Nutz die RELU-Aktivierungsfunktion.\n",
        "\n",
        "Schritt 4: Erstelle eine zweite Dense-Hidden-Layer aus 100 Neuronen mit der gleichen Aktivierungsfunktion. \n",
        "\n",
        "Schritt 5: Erstelle eine Ausgabeschicht mit der Softmax-Aktivierungsfunktion. Wie viele Ausgabeneuronen benötigst du?"
      ]
    },
    {
      "cell_type": "code",
      "metadata": {
        "id": "1YCEtmJ42SXy"
      },
      "source": [
        "model =   # Schritt 1\n",
        "model.add()  # Schritt 2\n",
        "model.add()  # Schritt 3\n",
        "model.add()    # Schritt 4\n",
        "model.add()    # Schritt 5  "
      ],
      "execution_count": 68,
      "outputs": []
    },
    {
      "cell_type": "markdown",
      "metadata": {
        "id": "al_2VCIClnBU"
      },
      "source": [
        "## 4. Teil"
      ]
    },
    {
      "cell_type": "markdown",
      "metadata": {
        "id": "0mFAMKFCjHQN"
      },
      "source": [
        "Gib eine Zusammenfassung deines Modells aus"
      ]
    },
    {
      "cell_type": "code",
      "metadata": {
        "colab": {
          "base_uri": "https://localhost:8080/"
        },
        "id": "jbwjve6C5q15",
        "outputId": "3901d230-4481-4ab8-aaf2-3ea7ad3c00e8"
      },
      "source": [
        ""
      ],
      "execution_count": 69,
      "outputs": [
        {
          "output_type": "stream",
          "text": [
            "Model: \"sequential_4\"\n",
            "_________________________________________________________________\n",
            "Layer (type)                 Output Shape              Param #   \n",
            "=================================================================\n",
            "flatten_10 (Flatten)         (None, 784)               0         \n",
            "_________________________________________________________________\n",
            "dense_11 (Dense)             (None, 250)               196250    \n",
            "_________________________________________________________________\n",
            "dense_12 (Dense)             (None, 100)               25100     \n",
            "_________________________________________________________________\n",
            "dense_13 (Dense)             (None, 10)                1010      \n",
            "=================================================================\n",
            "Total params: 222,360\n",
            "Trainable params: 222,360\n",
            "Non-trainable params: 0\n",
            "_________________________________________________________________\n"
          ],
          "name": "stdout"
        }
      ]
    },
    {
      "cell_type": "markdown",
      "metadata": {
        "id": "s6TIUa5gjLVF"
      },
      "source": [
        "In der nächsten Zelle wird dein Modell kompiliert. Die Label liegen hier als \"One-Hot-Encoding\" vor, d.h. die Ziffern werden nicht als Worte, sondern als Codierung gespeichert: Eine Eins hat die Codierung: 010000000, eine Zwei hat die Codierung: 0010000000 usw. \n",
        "Daher muss als Loss-Funktion \"sparse_categorical_crossentropy\" verwendet werden. "
      ]
    },
    {
      "cell_type": "markdown",
      "metadata": {
        "id": "EnXT2jgwlohl"
      },
      "source": [
        "## 5. Teil"
      ]
    },
    {
      "cell_type": "code",
      "metadata": {
        "id": "VSMjcu5Q2wSc"
      },
      "source": [
        "model.compile(optimizer='adam', loss='sparse_categorical_crossentropy', metrics = 'accuracy')"
      ],
      "execution_count": 70,
      "outputs": []
    },
    {
      "cell_type": "markdown",
      "metadata": {
        "id": "9emHdpb3lrcW"
      },
      "source": [
        "## 6. Teil"
      ]
    },
    {
      "cell_type": "markdown",
      "metadata": {
        "id": "0QOfBWJRkLc0"
      },
      "source": [
        "Trainiere das Modell mit der model.fit Methode. Übergib die richtigen Parameter: Die Bilder sind x_train, die Labels sind y_train. Wie viele Epochen möchtest du es trainieren? "
      ]
    },
    {
      "cell_type": "code",
      "metadata": {
        "colab": {
          "base_uri": "https://localhost:8080/"
        },
        "id": "wMh7fsWm6Cz6",
        "outputId": "1602b7bf-055b-4163-c601-b6db06f4206f"
      },
      "source": [
        ""
      ],
      "execution_count": 73,
      "outputs": [
        {
          "output_type": "stream",
          "text": [
            "Epoch 1/10\n",
            "1875/1875 [==============================] - 6s 3ms/step - loss: 0.2877 - accuracy: 0.9271\n",
            "Epoch 2/10\n",
            "1875/1875 [==============================] - 6s 3ms/step - loss: 0.1863 - accuracy: 0.9506\n",
            "Epoch 3/10\n",
            "1875/1875 [==============================] - 6s 3ms/step - loss: 0.1533 - accuracy: 0.9587\n",
            "Epoch 4/10\n",
            "1875/1875 [==============================] - 6s 3ms/step - loss: 0.1322 - accuracy: 0.9644\n",
            "Epoch 5/10\n",
            "1875/1875 [==============================] - 6s 3ms/step - loss: 0.1178 - accuracy: 0.9688\n",
            "Epoch 6/10\n",
            "1875/1875 [==============================] - 6s 3ms/step - loss: 0.1089 - accuracy: 0.9708\n",
            "Epoch 7/10\n",
            "1875/1875 [==============================] - 6s 3ms/step - loss: 0.0963 - accuracy: 0.9753\n",
            "Epoch 8/10\n",
            "1875/1875 [==============================] - 6s 3ms/step - loss: 0.0919 - accuracy: 0.9757\n",
            "Epoch 9/10\n",
            "1875/1875 [==============================] - 6s 3ms/step - loss: 0.0797 - accuracy: 0.9795\n",
            "Epoch 10/10\n",
            "1875/1875 [==============================] - 6s 3ms/step - loss: 0.0795 - accuracy: 0.9799\n"
          ],
          "name": "stdout"
        }
      ]
    },
    {
      "cell_type": "markdown",
      "metadata": {
        "id": "rWKBQSAik-0s"
      },
      "source": [
        "# Lösungen"
      ]
    },
    {
      "cell_type": "markdown",
      "metadata": {
        "id": "kOpwtQ2zlxYl"
      },
      "source": [
        "## 1. Teil \n",
        "Importiere die Libraries, die du benötigst.\n",
        "\n",
        "Tipp: Du benötigst von keras.models das sequentielle Modell, von keras.layers eine \"normale\" Schicht mit Neuronen und eine Schicht, um das Bild in einen Vektor umzuwandeln. \n",
        "Zusätzlich benötigst du den Befehl, um das MNIST-Datenset zu importieren. \n",
        "Zur Berechnung benötigst du numpy. Vergiss hierbei nicht den Zusatz \"as np\". \n",
        "\n",
        "Übrigens: Wenn du ein Modul verwenden willst, das du noch nicht importiert hast, erhälst du die Fehlermeldung \"module not found\". Dann ergänz es hier bei den Importen und führ die Zelle erneut aus. "
      ]
    },
    {
      "cell_type": "code",
      "metadata": {
        "id": "Dse_KBgAlxYl"
      },
      "source": [
        "from keras.models import Sequential \n",
        "from keras.layers import Flatten\n",
        "from keras.layers import Dense\n",
        "from keras.datasets import mnist\n",
        "import numpy as np"
      ],
      "execution_count": null,
      "outputs": []
    },
    {
      "cell_type": "markdown",
      "metadata": {
        "id": "aX2s-LP0lxYm"
      },
      "source": [
        "## 2. Teil"
      ]
    },
    {
      "cell_type": "markdown",
      "metadata": {
        "id": "VgurZ29BlxYm"
      },
      "source": [
        "Hier wird das Datenset geladen. Die Rückdabeparameter der Funktion mnist.load_data sind zwei Tupel aus je zwei Numpy-Arrays. (Dafür benötigst du das Modul numpy)"
      ]
    },
    {
      "cell_type": "code",
      "metadata": {
        "colab": {
          "base_uri": "https://localhost:8080/"
        },
        "id": "9jQbyPcSlxYm",
        "outputId": "82090c3d-7131-4aa5-9589-9feb45c8c985"
      },
      "source": [
        " (x_train, y_train), (x_test, y_test)  = mnist.load_data()"
      ],
      "execution_count": null,
      "outputs": [
        {
          "output_type": "stream",
          "text": [
            "Downloading data from https://storage.googleapis.com/tensorflow/tf-keras-datasets/mnist.npz\n",
            "11493376/11490434 [==============================] - 0s 0us/step\n"
          ],
          "name": "stdout"
        }
      ]
    },
    {
      "cell_type": "markdown",
      "metadata": {
        "id": "jcBF3MZ3lxYn"
      },
      "source": [
        "## 3. Teil"
      ]
    },
    {
      "cell_type": "markdown",
      "metadata": {
        "id": "Sx_rRP90lxYn"
      },
      "source": [
        "Hier baust du das neuronale Netz auf. \n",
        "\n",
        "Schritt 1: Initialisiere das Modell als sequentielles Modell\n",
        "\n",
        "Schritt 2: Erstelle eine Input-Schicht. Die Bilder des MNIST-Datensets haben eine Seitenlänge von 28 Pixeln und sind schwarz - weiß \n",
        "\n",
        "Schritt 3: Erstelle eine Dense-Hidden-Layer mit 250 Neuronen. Nutz die RELU-Aktivierungsfunktion.\n",
        "\n",
        "Schritt 4: Erstelle eine zweite Dense-Hidden-Layer aus 100 Neuronen mit der gleichen Aktivierungsfunktion. \n",
        "\n",
        "Schritt 5: Erstelle eine Ausgabeschicht mit der Softmax-Aktivierungsfunktion. Wie viele Ausgabeneuronen benötigst du?"
      ]
    },
    {
      "cell_type": "code",
      "metadata": {
        "id": "6rikKSIDlxYn"
      },
      "source": [
        "model = Sequential()  # Schritt 1\n",
        "model.add(Flatten(input_shape = (28,28,1)))  # Schritt 2\n",
        "model.add(Dense(units = 250, activation= 'relu'))  # Schritt 3\n",
        "model.add(Dense(units = 100, activation= 'relu'))  # Schritt 4\n",
        "model.add(Dense(units = 10, activation = 'softmax'))  # Schritt 5  "
      ],
      "execution_count": null,
      "outputs": []
    },
    {
      "cell_type": "markdown",
      "metadata": {
        "id": "HvJ3PKdmlxYo"
      },
      "source": [
        "## 4. Teil"
      ]
    },
    {
      "cell_type": "markdown",
      "metadata": {
        "id": "e-MkIi5llxYo"
      },
      "source": [
        "Gib eine Zusammenfassung deines Modells aus"
      ]
    },
    {
      "cell_type": "code",
      "metadata": {
        "colab": {
          "base_uri": "https://localhost:8080/"
        },
        "id": "oN_7tZAmlxYo",
        "outputId": "3901d230-4481-4ab8-aaf2-3ea7ad3c00e8"
      },
      "source": [
        "model.summary()"
      ],
      "execution_count": null,
      "outputs": [
        {
          "output_type": "stream",
          "text": [
            "Model: \"sequential_4\"\n",
            "_________________________________________________________________\n",
            "Layer (type)                 Output Shape              Param #   \n",
            "=================================================================\n",
            "flatten_10 (Flatten)         (None, 784)               0         \n",
            "_________________________________________________________________\n",
            "dense_11 (Dense)             (None, 250)               196250    \n",
            "_________________________________________________________________\n",
            "dense_12 (Dense)             (None, 100)               25100     \n",
            "_________________________________________________________________\n",
            "dense_13 (Dense)             (None, 10)                1010      \n",
            "=================================================================\n",
            "Total params: 222,360\n",
            "Trainable params: 222,360\n",
            "Non-trainable params: 0\n",
            "_________________________________________________________________\n"
          ],
          "name": "stdout"
        }
      ]
    },
    {
      "cell_type": "markdown",
      "metadata": {
        "id": "rsi3pCrXlxYo"
      },
      "source": [
        "In der nächsten Zelle wird dein Modell kompiliert. Die Label liegen hier als \"One-Hot-Encoding\" vor, d.h. die Ziffern werden nicht als Worte, sondern als Codierung gespeichert: Eine Eins hat die Codierung: 010000000, eine Zwei hat die Codierung: 0010000000 usw. \n",
        "Daher muss als Loss-Funktion \"sparse_categorical_crossentropy\" verwendet werden. "
      ]
    },
    {
      "cell_type": "markdown",
      "metadata": {
        "id": "Mmc1D6PRlxYp"
      },
      "source": [
        "## 5. Teil"
      ]
    },
    {
      "cell_type": "code",
      "metadata": {
        "id": "gCLSIpk5lxYp"
      },
      "source": [
        "model.compile(optimizer='adam', loss='sparse_categorical_crossentropy', metrics = 'accuracy')"
      ],
      "execution_count": null,
      "outputs": []
    },
    {
      "cell_type": "markdown",
      "metadata": {
        "id": "GE3B_yTglxYp"
      },
      "source": [
        "## 6. Teil"
      ]
    },
    {
      "cell_type": "markdown",
      "metadata": {
        "id": "fLzIZurulxYp"
      },
      "source": [
        "Trainiere das Modell mit der model.fit Methode. Übergib die richtigen Parameter: Die Bilder sind x_train, die Labels sind y_train. Wie viele Epochen möchtest du es trainieren? "
      ]
    },
    {
      "cell_type": "code",
      "metadata": {
        "id": "tc9SXHzjlESt"
      },
      "source": [
        "history=model.fit(x_train, y_train, epochs=10)"
      ],
      "execution_count": null,
      "outputs": []
    }
  ]
}
