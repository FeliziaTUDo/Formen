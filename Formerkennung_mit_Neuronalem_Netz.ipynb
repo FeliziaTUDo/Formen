{
  "nbformat": 4,
  "nbformat_minor": 0,
  "metadata": {
    "colab": {
      "name": "Formerkennung_mit_Neuronalem_Netz.ipynb",
      "provenance": [],
      "collapsed_sections": [
        "R3SHZrb-r3up",
        "7Kk1RB6UkkLi",
        "julQYl0tkx9I",
        "H2Oa8j35k2cG",
        "xW3gD0Y3unw-",
        "JidTa0BkIQOj"
      ],
      "toc_visible": true
    },
    "kernelspec": {
      "name": "python3",
      "display_name": "Python 3"
    },
    "accelerator": "GPU"
  },
  "cells": [
    {
      "cell_type": "markdown",
      "metadata": {
        "id": "EnJIPCG-99_1"
      },
      "source": [
        "---\n",
        "# Ziel\n"
      ]
    },
    {
      "cell_type": "markdown",
      "metadata": {
        "id": "hBdV8RJz-Om6"
      },
      "source": [
        "In diesem Notebook wird der Ablauf zum Erstellen und Trainieren eines Neuronalen Netzes mit Keras gezeigt. \r\n"
      ]
    },
    {
      "cell_type": "markdown",
      "metadata": {
        "id": "W5NQdqjE-RSX"
      },
      "source": [
        "---"
      ]
    },
    {
      "cell_type": "markdown",
      "metadata": {
        "id": "R3SHZrb-r3up"
      },
      "source": [
        "# 1. Allgemeine Vorbereitung"
      ]
    },
    {
      "cell_type": "markdown",
      "metadata": {
        "id": "FeW-Hl5E8vFA"
      },
      "source": [
        "Zu Beginn wird in den Ordner \"KI\" navigiert, der in der vorangegangenen Klickanleitung erstellt wurde. \r\n",
        "\r\n",
        "Dafür wird der Befehl cd (= change directory) verwendet. "
      ]
    },
    {
      "cell_type": "code",
      "metadata": {
        "id": "3ip554ajtuxA",
        "cellView": "both"
      },
      "source": [
        "%cd ~/../content/drive/My\\ Drive/KI/\n"
      ],
      "execution_count": null,
      "outputs": []
    },
    {
      "cell_type": "markdown",
      "metadata": {
        "id": "L4Vscsdxswxc"
      },
      "source": [
        "In Google Colab sind viele Libraries (Bibliotheken) bereits vorinstalliert. Um die Funktionen dieser Libraries zu nutzen, werden sie mit dem import-Befehl in das aktuelle Notebook importiert.\n",
        "\n",
        "Zum Ausführen dieses Notebooks werden die drei Bibliotheken keras, matplotlib und numpy benötigt, die folgende Funktionen erfüllen:\n",
        "\n",
        "\n",
        "* keras: Funktionen für das Neuronale Netz\n",
        "\n",
        "* matplotlib: Zum Anzeigen von Bildern und Plotten von Funktionen\n",
        "\n",
        "* numpy: Zur numerischen Berechnung von Arrays\n",
        "\n"
      ]
    },
    {
      "cell_type": "code",
      "metadata": {
        "id": "Awnac25OGU_Y",
        "cellView": "both"
      },
      "source": [
        "import keras\n",
        "from keras.callbacks import ModelCheckpoint \n",
        "from keras.layers import Dense, Flatten\n",
        "from keras.models import Sequential\n",
        "from keras.optimizers import Adam\n",
        "from keras.utils import plot_model\n",
        "from keras.preprocessing import image\n",
        "from keras.preprocessing.image import ImageDataGenerator\n",
        "\n",
        "import matplotlib\n",
        "from matplotlib import pyplot as plt\n",
        "\n",
        "import numpy as np\n"
      ],
      "execution_count": null,
      "outputs": []
    },
    {
      "cell_type": "markdown",
      "metadata": {
        "id": "hXp5sKLlGAq_"
      },
      "source": [
        "\r\n",
        "\r\n",
        "---\r\n",
        "\r\n"
      ]
    },
    {
      "cell_type": "markdown",
      "metadata": {
        "id": "7Kk1RB6UkkLi"
      },
      "source": [
        "# 2. Erstellen des Datensets"
      ]
    },
    {
      "cell_type": "markdown",
      "metadata": {
        "id": "XbbtmDIyGoNB"
      },
      "source": [
        "In Github befindet sich ein Datenset mit Bildern von Kreisen, Dreiecken und Vierecken. Dieses Datenset wird mit folgendem Befehl heruntergeladen."
      ]
    },
    {
      "cell_type": "code",
      "metadata": {
        "id": "sPgwkKNCebCJ"
      },
      "source": [
        "!git clone https://github.com/FeliziaTUDo/Formen.git"
      ],
      "execution_count": null,
      "outputs": []
    },
    {
      "cell_type": "markdown",
      "metadata": {
        "id": "xQ3tNqNpG5BT"
      },
      "source": [
        "Aufgabe 1\r\n",
        "\r\n",
        "(Die Lösung zu allen Aufgaben befindet sich am Ende dieses Notebooks unter der Überschrift \"Lösungen zu den Aufgaben\")\r\n",
        "\r\n",
        "1a.) Öffne die Ordnerstruktur am linken Rand des Notebooks. In welchem Verzeichnis wurden die Bilder gespeichert? \r\n",
        "\r\n",
        "1b.) Nach welchem System wurden die Bilder sortiert? Weshalb ist diese Sortierung notwendig? \r\n",
        "\r\n",
        "1c.) Um die Trainingsbilder und Testbildern in ein Datenset einzufügen, wird der Pfad dorthin benötigt. In der nächsten Zelle wird der Pfad für die Trainignsbilder mit der Variable path_train_images angegeben. Gib nach dem gleichen Schema den den Pfad für die Testbilder unter der Variable path_test_images an."
      ]
    },
    {
      "cell_type": "code",
      "metadata": {
        "id": "DYxSO4I_UxOc"
      },
      "source": [
        "path_train_images = './Formen/train'\r\n",
        "path_test_images = '.'"
      ],
      "execution_count": null,
      "outputs": []
    },
    {
      "cell_type": "markdown",
      "metadata": {
        "id": "qHo9KJkrHcWg"
      },
      "source": [
        "Im nächsten Schritt werden die Bilder in einem Datenset angeordnet. Zu jedem Bild wird die entsprechende Klasse (= Label) gespeichert. \r\n",
        "\r\n",
        "In unserem Datenset sind alle Bilder bereits in der gleichen Größe. In anderen Datensets kann es der Fall sein, dass Bilder unterschiedlich groß sind. Diese Bilder werden bei Anordnung im Datenset auf die vorgegebene Größe verkleinert. \r\n",
        "\r\n",
        "Daher wird zu Begin die Seitenlänge des Bildes in Pixeln in der Variablen image_side_lentgh festgelegt. In diesem Fall beträgt die Seitenlänge des Bildes 28 Pixel. \r\n",
        "\r\n",
        "Aufgabe 2: Warum müssen alle Bilder die gleiche Seitenlänge haben?"
      ]
    },
    {
      "cell_type": "code",
      "metadata": {
        "id": "qikANhfNf_Js"
      },
      "source": [
        "# Welche Seitenlänge in Pixeln sollen die Bilder haben?\n",
        "image_side_lentgh = 28"
      ],
      "execution_count": null,
      "outputs": []
    },
    {
      "cell_type": "markdown",
      "metadata": {
        "id": "kBzvz_aROeRF"
      },
      "source": [
        "In der nächsten Zelle werden die Bilder in ein Datenset zusammengefügt. \r\n",
        "\r\n",
        "Mit ImageDataGenerator() werden einzelne Pakete (\"Batches\") aus Bilddaten erzeugt. \r\n",
        "\r\n",
        "\"rescale\" ist der Faktor, mit dem alle eingehenden Daten multipliziert werden. Die Helligkeitswerte befinden sich in Werten von 0 (schwarz) bis 255 (weiß). Um diese auf Werte zwischen 0 und 1 zu normieren, wird der unten gezeigte rescale-Faktor angewendet.\r\n",
        "\r\n",
        "\"validation_split\" gibt an, wie groß der Anteil der Bilder ist, die nicht für den Lernprozess verwendet werden, sondern mit denen die Qualität der Gewichte des Netzes überprüft wird.  \r\n",
        "\r\n",
        "Weitere Informationen zum ImageDataGenerator befinden sich hier: https://keras.io/api/preprocessing/image/"
      ]
    },
    {
      "cell_type": "code",
      "metadata": {
        "id": "4yO5yqMkR94l"
      },
      "source": [
        "# Einstellung zum Einlesen der Bilder\n",
        "data_generation = ImageDataGenerator(rescale = 1./ 255,\n",
        "                                     validation_split=0.25)"
      ],
      "execution_count": null,
      "outputs": []
    },
    {
      "cell_type": "markdown",
      "metadata": {
        "id": "On6EGwkjUiTe"
      },
      "source": [
        "Ein Trainingsdatenset und ein Validationsdatenset werden erstellt. \r\n",
        "\r\n",
        "Hier wird der Pfad zu den Trainingsbildern und die Seitenlänge der Bilder angegeben. Über die Variable batch_size wird die Anzahl der Bilder festgelegt, nach der die Gewichte des Neuronalen Netzes aktualisiert werden. Mit class_mode wird die Art des Abspeicherns der Labels festgelegt.  "
      ]
    },
    {
      "cell_type": "code",
      "metadata": {
        "id": "kfk0_lNNUepy"
      },
      "source": [
        "## Trainingsdatenset\r\n",
        "train_images = data_generation.flow_from_directory( path_train_images,\r\n",
        "                                                    target_size = (image_side_lentgh,image_side_lentgh),\r\n",
        "                                                    batch_size = 32,\r\n",
        "                                                    seed = 100,\r\n",
        "                                                    class_mode = 'categorical',\r\n",
        "                                                    color_mode = 'grayscale',\r\n",
        "                                                    subset='training'\r\n",
        "                                                    )\r\n",
        "\r\n",
        "## Validationdatenset\r\n",
        "validation_images = data_generation.flow_from_directory(path_train_images,\r\n",
        "                                                    target_size=(image_side_lentgh,image_side_lentgh),\r\n",
        "                                                    batch_size = 32,\r\n",
        "                                                    seed = 100,\r\n",
        "                                                    class_mode='categorical',\r\n",
        "                                                    color_mode = 'grayscale',\r\n",
        "                                                    subset='validation')"
      ],
      "execution_count": null,
      "outputs": []
    },
    {
      "cell_type": "markdown",
      "metadata": {
        "id": "bK7RC76MGG2m"
      },
      "source": [
        "---"
      ]
    },
    {
      "cell_type": "markdown",
      "metadata": {
        "id": "julQYl0tkx9I"
      },
      "source": [
        "# 3. Aufbau des Neuronalen Netzes"
      ]
    },
    {
      "cell_type": "markdown",
      "metadata": {
        "id": "Jl1YAVFEXrxT"
      },
      "source": [
        "In diesem Kapitel wird ein Neuronales Netz aus drei Schichten aufgebaut. \r\n",
        "\r\n",
        "Zunächst wird die Anzahl der Klassen festgelegt. \r\n",
        "\r\n",
        "Aufgabe 3\r\n",
        "\r\n",
        "3a.) Wie viele Klassen sind vorhanden und wie kommt diese Zahl zustande?\r\n",
        "\r\n",
        "3b.) Welche Schicht des Neuronalen Netzes wird durch die Anzahl der Klassen festgelegt?"
      ]
    },
    {
      "cell_type": "code",
      "metadata": {
        "id": "J1x6G5GjMvFs"
      },
      "source": [
        "# Wie viele Klassen haben wir? \r\n",
        "num_classes ="
      ],
      "execution_count": null,
      "outputs": []
    },
    {
      "cell_type": "markdown",
      "metadata": {
        "id": "oWle-NDiYqvk"
      },
      "source": [
        "Die Anzahl der Neuronen in der verdeckten, zweiten Schicht (Hidden Layer) werden durch keinen Parameter vorgegeben. Sie werden zu 19 festgelegt."
      ]
    },
    {
      "cell_type": "code",
      "metadata": {
        "id": "PV_ksEONZB0P"
      },
      "source": [
        "neurons_second_layer = 19"
      ],
      "execution_count": null,
      "outputs": []
    },
    {
      "cell_type": "markdown",
      "metadata": {
        "id": "ydmrICAKaHfV"
      },
      "source": [
        "Im nächsten Schitt wird das Neuronale Netz aufgebaut. \r\n",
        "\r\n",
        "Mit der Angabe Sequential() wird festgelegt, dass Schichten nacheinander über model.add() hinzugefügt werden. \r\n",
        "\r\n",
        "Zwei Arten von Schichten werden verwendet: Dense und Flatten. Dense bedeutet, dass eine eindimensinale Schicht vorliegt, deren Neuronen vollständig mit allen Neuronen der nachfolgenden Schicht verknüpft sind.\r\n",
        "Die Schicht Flatten gibt ebenfalls eine eindimensionale Schicht Neuronen aus. Zusätzlich erfüllt sie eine weitere Funktion: \r\n",
        "\r\n",
        "Aufgabe 4: Welche Funktion könnte die Schicht \"Flatten\" erfüllen, und warum ist diese Funktion notwendig?\r\n",
        "\r\n",
        "Bei Hinzufügen einer Schicht werden die Anzahl der Neuronen durch die Variable \"units\" festgelegt. Ausnahme stellt die erste Schicht dar, in der die Anzahl der Neuronen über input_shape festgelegt werden. \r\n",
        "\r\n",
        "Bei allen Schichten (außer der ersten Schicht) wird eine Funktion angegeben, nach der die Neuronen aktiviert werden (Aktivierungsfunktion). Informationen zu möglichen Aktivierungsfunktionen befinden sich bspw. hier:\r\n",
        "\r\n",
        " https://ml-cheatsheet.readthedocs.io/en/latest/activation_functions.html\r\n",
        "\r\n"
      ]
    },
    {
      "cell_type": "code",
      "metadata": {
        "id": "eoTU8Zav3L3b"
      },
      "source": [
        "# Initialisierung des Neuronalen Netzes\n",
        "model = Sequential()\n",
        "\n",
        "# Aufbau des Neuronalen Netzes\n",
        "## Schicht 1:\n",
        "model.add(Flatten(input_shape=(image_side_lentgh,image_side_lentgh, 1)))\n",
        "\n",
        "## Schicht 2:\n",
        "model.add(Dense(units=neurons_second_layer, activation='relu'))\n",
        "\n",
        "## Schicht :\n",
        "model.add(Dense(units=num_classes, activation='softmax'))"
      ],
      "execution_count": null,
      "outputs": []
    },
    {
      "cell_type": "markdown",
      "metadata": {
        "id": "eBTGGJT-c1he"
      },
      "source": [
        "In der nachfolgenden Tabelle wird eine Übersicht des neuronalen Netzes ausgegeben. \r\n"
      ]
    },
    {
      "cell_type": "code",
      "metadata": {
        "colab": {
          "base_uri": "https://localhost:8080/"
        },
        "id": "LPdcsHqy3M83",
        "outputId": "0af91645-3f33-4efa-98fb-5839dfb88caa"
      },
      "source": [
        "## Ausgabe der Netzarchitektur  \n",
        "model.summary()"
      ],
      "execution_count": null,
      "outputs": [
        {
          "output_type": "stream",
          "text": [
            "Model: \"sequential\"\n",
            "_________________________________________________________________\n",
            "Layer (type)                 Output Shape              Param #   \n",
            "=================================================================\n",
            "flatten (Flatten)            (None, 784)               0         \n",
            "_________________________________________________________________\n",
            "dense (Dense)                (None, 19)                14915     \n",
            "_________________________________________________________________\n",
            "dense_1 (Dense)              (None, 3)                 60        \n",
            "=================================================================\n",
            "Total params: 14,975\n",
            "Trainable params: 14,975\n",
            "Non-trainable params: 0\n",
            "_________________________________________________________________\n"
          ],
          "name": "stdout"
        }
      ]
    },
    {
      "cell_type": "markdown",
      "metadata": {
        "id": "FslXUIvogQbj"
      },
      "source": [
        "In der nächsten Zelle wird das Neuronale Netz kompiliert (= in Maschinencode umgewandelt). \r\n",
        "\r\n",
        "Mit dem Optimizer werden Einstellungen für die Anpassung der Gewichte festgelegt. Die Lernrate (lr) bestimmt beispielsweise die Schrittgröße bei der Gewichtsanpassung. Der Parameter \"loss\", beschreibt im Groben die Abweichung der Gewichte der Output-Layer von den idealen Gewichten der Output-Layer. Er wird häufig auch als Kostenfunktion bezeichnet.Es gibt verschiedene Möglichkeiten, des Loss zu berechnen. Weitere Informationen zu Loss-Funktionen finden sich hier: \r\n",
        "\r\n",
        "https://keras.io/api/losses/probabilistic_losses/#categoricalcrossentropy-class\r\n",
        "\r\n",
        "Mit dem Parameter \"metrics\" das Verfahren zur Beurteilung der Ergebnisse festgelegt. In dem Fall beschreibt \"Accuracy\" das Verhältnis der richtig vorhergesagten Bildern zu allen vorhergesagten Bildern. Dieses Verhältnis liegt immer zwischen 0 und 1. 0 bedeutet, dass kein einziges Bild korrekt vorhergesagt wurde, 1 bedeutet, dass alle Bilder korrekt vorhergesagt wurden.\r\n",
        "\r\n",
        "Aufgabe 2e: In diesem Fall wird das Neuronale Netz auf drei Klassen trainiert. Welche Accuracy ist bei einem vollständig untrainierten Netz zu erwarten?\r\n",
        "\r\n",
        "Zusätzlich wird ein checkpoint angelegt, d.h. ein Speicherort für die besten Gewichtungen, die mithilfe des Validierungsdatensets ermittelt werden. \r\n"
      ]
    },
    {
      "cell_type": "code",
      "metadata": {
        "id": "vSU2iBejA8l3"
      },
      "source": [
        "# Kompilieren des Neuronalen Netzes\n",
        "my_optimizer = Adam(lr = 0.001) \n",
        "model.compile(optimizer = my_optimizer,\n",
        "                   loss = 'categorical_crossentropy',\n",
        "                   metrics = 'accuracy')   \n",
        "\n",
        "## Vorgabe zum Speichern des Netzes\n",
        "checkpoint_path = \"Checkpoint_NeuronalesNetz.ckpt\"\n",
        "model_checkpoint_callback = ModelCheckpoint(\n",
        "    filepath=checkpoint_path,\n",
        "    save_weights_only=True,\n",
        "    monitor='val_accuracy',\n",
        "    verbose = 1,\n",
        "    mode='max',\n",
        "    save_best_only=True)               "
      ],
      "execution_count": null,
      "outputs": []
    },
    {
      "cell_type": "markdown",
      "metadata": {
        "id": "H2Oa8j35k2cG"
      },
      "source": [
        "# 4. Training des Neuronalen Netzes"
      ]
    },
    {
      "cell_type": "markdown",
      "metadata": {
        "id": "P5ixjY2yjMqg"
      },
      "source": [
        "Das Neuronale Netz wird trainiert. Die Trainingsbilder und Validierungsbilder werden angegeben, sowie die Methode (callbacks), nach der die besten Gewichtungen gespeichert werden. \r\n",
        "\r\n",
        "Eine Epoche beschreibt den Ablauf, in dem jedes Bild des Datensets ein mal das Neuronale Netz durchlaufen hat. "
      ]
    },
    {
      "cell_type": "code",
      "metadata": {
        "id": "FLMlh3dvXwAC"
      },
      "source": [
        "# Training des Neuronalen Netzes\n",
        "history = model.fit(train_images,\n",
        "                    epochs = 100,\n",
        "                    validation_data=validation_images,\n",
        "                    callbacks = model_checkpoint_callback\n",
        "                    )                    "
      ],
      "execution_count": null,
      "outputs": []
    },
    {
      "cell_type": "markdown",
      "metadata": {
        "id": "xW3gD0Y3unw-"
      },
      "source": [
        "# 5. Treffen von Vorhersagen"
      ]
    },
    {
      "cell_type": "markdown",
      "metadata": {
        "id": "tq1CiJMvkX0j"
      },
      "source": [
        "Zunächst werden die besten Gewichtungen geladen. Die 30 Testbilder werden mit dem ImageDataGenerator genauso bearbeitet, wie die Trainingsbilder. "
      ]
    },
    {
      "cell_type": "code",
      "metadata": {
        "id": "rS8mAVcrMcHd"
      },
      "source": [
        "# Laden der Gewichtungen des Neuronalen Netzes\n",
        "model.load_weights(checkpoint_path)\n",
        "\n",
        "# Vorhersage des Bildes\n",
        "image_index = 0\n",
        "number_of_images = 30\n",
        "test_generator = ImageDataGenerator(rescale = 1./ 255)\n",
        "\n",
        "test_images = data_generation.flow_from_directory( path_test_images,\n",
        "                                                   target_size = (image_side_lentgh,image_side_lentgh),\n",
        "                                                   batch_size = 32,\n",
        "                                                   class_mode = 'categorical',\n",
        "                                                   color_mode = 'grayscale',\n",
        "                                                   shuffle= False\n",
        "                                                   )\n"
      ],
      "execution_count": null,
      "outputs": []
    },
    {
      "cell_type": "markdown",
      "metadata": {
        "id": "cdhAWiVTlYln"
      },
      "source": [
        "Die Testbilder werden durch den Befehl predict vorhergesagt. Alle Bilder werden im Anschluss mit der dazugehörigen Vorhersage angezeigt. \r\n",
        "\r\n",
        "Aufgabe 6\r\n",
        "\r\n",
        "6a.) Bei welchen Formen funktioniert die Vorhersage gut, bei welchen Formen funktioniert die Vorhersage weniger gut? \r\n",
        "\r\n",
        "6b.) Was könnte der Grund dafür sein, dass manche Formen leichter vorhergesagt werden, als andere? Tipp: Betrachte dafür auch die Trainingsbilder."
      ]
    },
    {
      "cell_type": "code",
      "metadata": {
        "id": "iiayfWr4lIIv"
      },
      "source": [
        "all_predictions = model.predict(test_images)\r\n",
        "\r\n",
        "# Anzeige der vorhergesagten Bilder\r\n",
        "x,y = test_images.next()\r\n",
        "\r\n",
        "for i in range(image_index ,image_index+number_of_images):\r\n",
        "    one_pred = all_predictions[i]\r\n",
        "    print(one_pred)\r\n",
        "\r\n",
        "    predicition_name = np.argmax(one_pred)\r\n",
        "    if predicition_name == 0:\r\n",
        "        print(\"Kreis\") \r\n",
        "    if predicition_name == 1:\r\n",
        "        print(\"Viereck\")\r\n",
        "    if predicition_name == 2:\r\n",
        "        print(\"Dreieck\")\r\n",
        "\r\n",
        "    image = x[i]\r\n",
        "    print(image.shape)\r\n",
        "    plt.imshow(image.reshape(28,28), cmap = \"gray\")\r\n",
        "    plt.show()"
      ],
      "execution_count": null,
      "outputs": []
    },
    {
      "cell_type": "markdown",
      "metadata": {
        "id": "f8Xp5cZepKQQ"
      },
      "source": [
        "Zum Überprüfen der Qualität des Neuronalen Netzes werden die Loss-Funktion und die Accuracy der Validierungsdaten der Trainings- und der Testbilder aufgezeichnet. Die Loss-Funktion soll minimiert werden, die Accuracy soll maximiert werden. \r\n",
        "\r\n",
        "Aufgabe 7: Diese Aufgabe ist etwas zeitaufwändiger, da das Modell zwei Mal trainiert werden muss. \r\n",
        "\r\n",
        "7a. Setze die Anzahl der Epochen durch die Variable \"epochs = \" bei der Funktion model.fit() einmal auf 10 und einmal auf 200 und lass das Neuronale Netz mit dieser Anzahl Epochen trainieren. Wenn du die Plots in der nachfolgenden Zelle erstellst: Wie verändert sich der Plot der Accuracy und der Loss-Funktion bei sehr vielen / wenigen Epochen? \r\n",
        "\r\n",
        "7b. (schwierig) Kannst du zu beiden Fällen die Begriffe Overfitting und Underfitting zuorden?"
      ]
    },
    {
      "cell_type": "code",
      "metadata": {
        "id": "aHN-eBL9BHr1"
      },
      "source": [
        "# Plotten der Genauigkeit (Accuracy)\n",
        "plt.plot(history.history['accuracy'])\n",
        "plt.title('Model accuracy')\n",
        "plt.ylabel('Accuracy')\n",
        "plt.xlabel('Epoch')\n",
        "plt.legend(['Train' ], loc='upper left')\n",
        "plt.show()\n",
        "\n",
        "plt.plot(history.history['val_accuracy'], label='Categorical Crossentropy (training data)')\n",
        "plt.title('Validation Accuracy')\n",
        "plt.ylabel('categorical_crossentropy value')\n",
        "plt.xlabel('No. epoch')\n",
        "plt.legend(loc=\"upper left\")\n",
        "plt.show()"
      ],
      "execution_count": null,
      "outputs": []
    },
    {
      "cell_type": "code",
      "metadata": {
        "id": "_dbiLC8_-1dT"
      },
      "source": [
        "# Plotten der Loss-Funktion\n",
        "plt.plot(history.history['loss'], label='Categorical Crossentropy (training data)')\n",
        "plt.title('Model loss')\n",
        "plt.ylabel('categorical_crossentropy value')\n",
        "plt.xlabel('No. epoch')\n",
        "plt.legend(loc=\"upper left\")\n",
        "plt.show()\n",
        "\n",
        "plt.plot(history.history['val_loss'], label='Categorical Crossentropy (training data)')\n",
        "plt.title('Val_Loss')\n",
        "plt.ylabel('categorical_crossentropy value')\n",
        "plt.xlabel('No. epoch')\n",
        "plt.legend(loc=\"upper left\")\n",
        "plt.show()"
      ],
      "execution_count": null,
      "outputs": []
    },
    {
      "cell_type": "markdown",
      "metadata": {
        "id": "JidTa0BkIQOj"
      },
      "source": [
        "---\r\n",
        "# Lösungen zu den Aufgaben"
      ]
    },
    {
      "cell_type": "markdown",
      "metadata": {
        "id": "QuGNkPQpIVXs"
      },
      "source": [
        "1a.) Öffne die Ordnerstruktur am linken Rand des Notebooks. In welchem Verzeichnis wurden die Bilder gespeichert? \r\n",
        "\r\n",
        "Die Bilder befinden sich unter drive/My\\ Drive/Formen/ "
      ]
    },
    {
      "cell_type": "markdown",
      "metadata": {
        "id": "cbCRtvJ-I_9i"
      },
      "source": [
        "\r\n",
        "1b.) Nach welchem System wurden die Bilder sortiert? Weshalb ist diese Sortierung notwendig? \r\n",
        "\r\n",
        "Die Bilder sind nach Trainings- und Testbildern sortiert. Mit den Trainingsbildern wird das Netz trainiert, mit den Testbildern wird die Qualität des Netzes getestet. \r\n",
        "Zusätzlich sind die Bilder nach der abgebildeten Form sortiert. Alle Kreise, alle Dreiecke und alle Vierecke für das Training befinden sich in je einem Ordner. Dadurch wird gewährleistet, dass den Bildern die richtige Klasse zugeordnet wird"
      ]
    },
    {
      "cell_type": "markdown",
      "metadata": {
        "id": "ZEFFc0COWDIF"
      },
      "source": [
        "1c.) Um die Trainingsbilder und Testbildern in ein Datenset einzufügen, wird der Pfad dorthin ebnötigt. In der nächsten Zelle wird der Pfad für die Trainignsbilder mit der Variable path_train_images angegeben. Gib nach dem gleichen Schema den den Pfad für die Testbilder unter der Variable path_test_images an.\r\n",
        "\r\n",
        "path_test_images = './Formen/test'"
      ]
    },
    {
      "cell_type": "markdown",
      "metadata": {
        "id": "AHQAzjjtPE_E"
      },
      "source": [
        "2.) Warum müssen alle Bilder die gleiche Seitenlänge haben?\r\n",
        "\r\n",
        "Jedes Pixel entspricht einem Neuron in der Input Layer des Neuronalen Netzes. Wenn sich die Größen der Bilder unterscheiden, sind entweder zu viele oder zu wenige Neuronen in dieser Schicht worhanden."
      ]
    },
    {
      "cell_type": "markdown",
      "metadata": {
        "id": "MmRkxlF2YNLN"
      },
      "source": [
        "3a.) Wie viele Klassen sind vorhanden und wie kommt diese Zahl zustande?\r\n",
        "\r\n",
        "Drei Klassensind vorhanden , da drei verschiedene Formen (Dreiecke, Kreise und Vierecke) unterschieden werden. "
      ]
    },
    {
      "cell_type": "markdown",
      "metadata": {
        "id": "IdRQLT8jYOMt"
      },
      "source": [
        "3b.) Welche Schicht des Neuronalen Netzes wird durch die Anzahl der Klassen festgelegt?\r\n",
        "\r\n",
        "Durch die Anzahl der Klassen wird die Anzahl der Ausgabeneuronen (Neuronen in der Output Layer) festgelegt. "
      ]
    },
    {
      "cell_type": "markdown",
      "metadata": {
        "id": "75y6VAjQcXpZ"
      },
      "source": [
        "4) Welche Funtkion könnte die Schicht \"Flatten\" erfüllen, und warum ist diese Funktion notwendig?\r\n",
        "\r\n",
        "Die Schicht Flatten erstellt aus einem zweidimensionalen Bild einen eindimensionalen Vektor. Dieser ist notwendig, um jedem Neuron der Input Layer einen Wert zuzuweisen. "
      ]
    },
    {
      "cell_type": "markdown",
      "metadata": {
        "id": "1Y7yzubMiWHL"
      },
      "source": [
        "5.) In diesem Fall wird das Neuronale Netz auf drei Klassen trainiert. Welche Accuracy ist bei einem vollständig untrainierten Netz zu erwarten?\r\n",
        "\r\n",
        "Ein untrainiertes Netz würde zufällig Vorhersagen treffen. Somit läge die erwartete Accuracy bei 1/3 (0.3333)."
      ]
    },
    {
      "cell_type": "markdown",
      "metadata": {
        "id": "c9M7--TlmdaZ"
      },
      "source": [
        "6a.) Bei welchen Formen funktioniert die Vorhersage gut, bei welchen Formen funktioniert die Vorhersage weniger gut? \r\n",
        "\r\n",
        "Bei Dreiecken und Vierecken funktioniert die Vorhersage deutlich besser als bei Kreisen."
      ]
    },
    {
      "cell_type": "markdown",
      "metadata": {
        "id": "AkIHDyCemftg"
      },
      "source": [
        "6b.) Was könnte der Grund dafür sein, dass manche Formen leichter vorhergesagt werden, als andere? Tipp: Betrachte dafür auch die Trainingsbilder.\r\n",
        "\r\n",
        "Dreiecke und Vierecke sind leichter voneinander abzugrenzen als Kreise, insbesondere wenn sie unsauber gezeichnet sind. Das ist auch im Datenset erkennbar, dass ein unsauber gezeichnetes Dreieck eher als Kreis, nicht aber als Viereck interpretierbar ist. Das gleiche gilt für Vierecke.  "
      ]
    },
    {
      "cell_type": "markdown",
      "metadata": {
        "id": "QS1gR_LAqpzM"
      },
      "source": [
        "7a. Setze die Anzahl der Epochen durch die Variable \"epochs = \" bei der Funktion model.fit() einmal auf 10 und einmal auf 200 und lass das Neuronale Netz mit dieser Anzahl Epochen trainieren. Wenn du die Plots in der nachfolgenden Zelle erstellst: Wie verändert sich der Plot der Accuracy und der Loss-Funktion bei sehr vielen / wenigen Epochen? \r\n",
        "\r\n",
        "Bei wenigen Epochen hat das Neuronale Netz noch nicht ausreichend trainiert. Der Loss ist noch vergleichsweise hoch, die Accuracy vergleichsweise niedrig. \r\n",
        "\r\n",
        "Bei vielen Epochen kann es sein, dass der Validierungsloss erneut ansteigt und die Validierungs-Accuracy sinkt. "
      ]
    },
    {
      "cell_type": "markdown",
      "metadata": {
        "id": "FWplVTLHqqzw"
      },
      "source": [
        "7b. (schwierig) Kannst du zu beiden Fällen die Begriffe Overfitting und Underfitting zuorden?\r\n",
        "\r\n",
        "Underfitting bedeutet, dass das Neuronale Netz (noch) nicht genügend Muster aus dem Training herausfinden konnte. Dies kann durch ein zu kurzes Training resultieren.\r\n",
        "\r\n",
        "Overfitting bedeutet, dass das Neuronale Netz die Daten zu gut kennt und sie \"auswendig gelernt\" hat. Als Konsequenz kann das Neuronale Netz neue Bilder schlechter erkennen und somit verschlechtern sich die Validierungswerte. Dieser Effekt tritt bei einem zu langem Training auf.  "
      ]
    },
    {
      "cell_type": "markdown",
      "metadata": {
        "id": "YDVGXQrC-zVV"
      },
      "source": [
        "Quelle: https://medium.com/tebs-lab/how-to-classify-mnist-digits-with-different-neural-network-architectures-39c75a0f03e3\n"
      ]
    }
  ]
}